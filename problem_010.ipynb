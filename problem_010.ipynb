{
 "cells": [
  {
   "cell_type": "code",
   "execution_count": null,
   "metadata": {
    "execution": {
     "iopub.execute_input": "2022-08-19T21:32:30.517582Z",
     "iopub.status.busy": "2022-08-19T21:32:30.517018Z",
     "iopub.status.idle": "2022-08-19T21:32:30.524043Z",
     "shell.execute_reply": "2022-08-19T21:32:30.523287Z",
     "shell.execute_reply.started": "2022-08-19T21:32:30.517549Z"
    },
    "scrolled": true,
    "tags": []
   },
   "outputs": [],
   "source": [
    "# class 可以把一些function(函数)整合在一起 并通过变量实现他们之间的沟通\n",
    "\n",
    "class Person:\n",
    "\n",
    "    def __init__(self, energy):\n",
    "        print(\"constructing init\")\n",
    "        self.energy = energy\n",
    "\n",
    "    def add_energy(self, newValue):\n",
    "        self.energy += newValue\n",
    "\n",
    "p = Person(100)\n",
    "print(\"person energy is {}\".format(p.energy))\n",
    "\n",
    "p.add_energy(20)\n",
    "print(\"person energy is {}\".format(p.energy))\n",
    "\n",
    "\n",
    "    "
   ]
  }
 ],
 "metadata": {
  "kernelspec": {
   "display_name": "Python 3.9.13 64-bit",
   "language": "python",
   "name": "python3"
  },
  "language_info": {
   "codemirror_mode": {
    "name": "ipython",
    "version": 3
   },
   "file_extension": ".py",
   "mimetype": "text/x-python",
   "name": "python",
   "nbconvert_exporter": "python",
   "pygments_lexer": "ipython3",
   "version": "3.9.13"
  },
  "vscode": {
   "interpreter": {
    "hash": "340e956ee656efd8fdfb480dc033c937d9b626f8b21073bd1b5aa2a469586ea6"
   }
  }
 },
 "nbformat": 4,
 "nbformat_minor": 4
}
