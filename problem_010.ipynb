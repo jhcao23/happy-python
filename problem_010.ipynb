{
 "cells": [
  {
   "cell_type": "markdown",
   "metadata": {},
   "source": [
    "请点击[此处](https://ai.baidu.com/docs#/AIStudio_Project_Notebook/a38e5576)查看本环境基本用法.  <br>\n",
    "Please click [here ](https://ai.baidu.com/docs#/AIStudio_Project_Notebook/a38e5576) for more detailed instructions. "
   ]
  },
  {
   "cell_type": "code",
   "execution_count": 5,
   "metadata": {
    "execution": {
     "iopub.execute_input": "2022-08-19T21:32:30.517582Z",
     "iopub.status.busy": "2022-08-19T21:32:30.517018Z",
     "iopub.status.idle": "2022-08-19T21:32:30.524043Z",
     "shell.execute_reply": "2022-08-19T21:32:30.523287Z",
     "shell.execute_reply.started": "2022-08-19T21:32:30.517549Z"
    },
    "scrolled": true,
    "tags": []
   },
   "outputs": [
    {
     "name": "stdout",
     "output_type": "stream",
     "text": [
      "constructing init\n",
      "person energy is 100\n",
      "person energy is 120\n"
     ]
    }
   ],
   "source": [
    "# class 可以把一些function(函数)整合在一起 并通过变量实现他们之间的沟通\n",
    "\n",
    "class Person:\n",
    "\n",
    "    def __init__(self, energy):\n",
    "        print(\"constructing init\")\n",
    "        self.energy = energy\n",
    "\n",
    "    def add_energy(self, newValue):\n",
    "        self.energy += newValue\n",
    "\n",
    "p = Person(100)\n",
    "print(\"person energy is {}\".format(p.energy))\n",
    "\n",
    "p.add_energy(20)\n",
    "print(\"person energy is {}\".format(p.energy))\n",
    "\n",
    "\n",
    "    "
   ]
  }
 ],
 "metadata": {
  "kernelspec": {
   "display_name": "Python 3",
   "language": "python",
   "name": "py35-paddle1.2.0"
  },
  "language_info": {
   "codemirror_mode": {
    "name": "ipython",
    "version": 3
   },
   "file_extension": ".py",
   "mimetype": "text/x-python",
   "name": "python",
   "nbconvert_exporter": "python",
   "pygments_lexer": "ipython3",
   "version": "3.7.4"
  }
 },
 "nbformat": 4,
 "nbformat_minor": 4
}
