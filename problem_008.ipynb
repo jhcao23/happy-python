{
 "cells": [
  {
   "cell_type": "code",
   "execution_count": 2,
   "metadata": {
    "collapsed": false,
    "execution": {
     "iopub.execute_input": "2022-08-18T20:59:44.860510Z",
     "iopub.status.busy": "2022-08-18T20:59:44.859162Z",
     "iopub.status.idle": "2022-08-18T20:59:44.864616Z",
     "shell.execute_reply": "2022-08-18T20:59:44.863728Z",
     "shell.execute_reply.started": "2022-08-18T20:59:44.860470Z"
    },
    "jupyter": {
     "outputs_hidden": false
    },
    "scrolled": true,
    "tags": []
   },
   "outputs": [],
   "source": [
    "# 给了2个数字变量a和b 请问如何计算a+b\n",
    "def addTwoNumber(a, b):\n",
    "    return a+b\n",
    "\n",
    "# 以上就定义了一个函数 \n",
    "# 函数名字叫做addTwoNumber\n",
    "# 函数的参数有2个: a 和 b\n",
    "# 函数会输出一个数值"
   ]
  },
  {
   "cell_type": "code",
   "execution_count": 4,
   "metadata": {
    "execution": {
     "iopub.execute_input": "2022-08-18T21:01:22.125319Z",
     "iopub.status.busy": "2022-08-18T21:01:22.123929Z",
     "iopub.status.idle": "2022-08-18T21:01:22.130380Z",
     "shell.execute_reply": "2022-08-18T21:01:22.129545Z",
     "shell.execute_reply.started": "2022-08-18T21:01:22.125278Z"
    },
    "scrolled": true,
    "tags": []
   },
   "outputs": [
    {
     "name": "stdout",
     "output_type": "stream",
     "text": [
      "6777\n"
     ]
    }
   ],
   "source": [
    "# 现在我们尝试使用我们亲手写的函数 来计算67+78的结果\n",
    "c = addTwoNumber(67, 77)\n",
    "\n",
    "# 让我们来展示一下计算结果\n",
    "print(c)"
   ]
  },
  {
   "cell_type": "code",
   "execution_count": 3,
   "metadata": {
    "execution": {
     "iopub.execute_input": "2022-08-14T20:38:00.679244Z",
     "iopub.status.busy": "2022-08-14T20:38:00.678561Z",
     "iopub.status.idle": "2022-08-14T20:38:00.683859Z",
     "shell.execute_reply": "2022-08-14T20:38:00.683145Z",
     "shell.execute_reply.started": "2022-08-14T20:38:00.679203Z"
    },
    "scrolled": true,
    "tags": []
   },
   "outputs": [
    {
     "name": "stdout",
     "output_type": "stream",
     "text": [
      "10098\n"
     ]
    }
   ],
   "source": [
    "# 再计算一下 99+9999的结果呗\n",
    "d = addTwoNumber(99, 9999)\n",
    "\n",
    "# 请展示\n",
    "print(d)"
   ]
  },
  {
   "cell_type": "code",
   "execution_count": 5,
   "metadata": {
    "execution": {
     "iopub.execute_input": "2022-08-18T21:04:56.147707Z",
     "iopub.status.busy": "2022-08-18T21:04:56.146271Z",
     "iopub.status.idle": "2022-08-18T21:04:56.154172Z",
     "shell.execute_reply": "2022-08-18T21:04:56.153133Z",
     "shell.execute_reply.started": "2022-08-18T21:04:56.147665Z"
    },
    "scrolled": true,
    "tags": []
   },
   "outputs": [
    {
     "name": "stdout",
     "output_type": "stream",
     "text": [
      "15\n"
     ]
    }
   ],
   "source": [
    "# 前方高能 请注意\n",
    "# 高难度动作 请看清\n",
    "# input是List的时候\n",
    "\n",
    "def sum(numbers):\n",
    "    total = 0\n",
    "    for n in numbers:\n",
    "        total = addTwoNumber(total, n)\n",
    "    return total\n",
    "\n",
    "# 现在我们来调用这个函数\n",
    "dadada = [1,2,3,4,5]\n",
    "sum_value = sum(dadada)\n",
    "print(sum_value)"
   ]
  },
  {
   "cell_type": "code",
   "execution_count": 6,
   "metadata": {
    "execution": {
     "iopub.execute_input": "2022-08-18T21:06:10.916085Z",
     "iopub.status.busy": "2022-08-18T21:06:10.915196Z",
     "iopub.status.idle": "2022-08-18T21:06:10.922030Z",
     "shell.execute_reply": "2022-08-18T21:06:10.920986Z",
     "shell.execute_reply.started": "2022-08-18T21:06:10.916044Z"
    },
    "scrolled": true,
    "tags": []
   },
   "outputs": [
    {
     "name": "stdout",
     "output_type": "stream",
     "text": [
      "今天不想上学\n"
     ]
    }
   ],
   "source": [
    "# 冷静一下 聊点没用的\n",
    "# 函数表达的是一个解决问题的方法 但并不意味着一定要return一个值 \n",
    "# 根据命题需求 function也可以不返回值 而是做点别的事\n",
    "def doAnything():\n",
    "    print(\"今天不想上学\")\n",
    "\n",
    "# call this function\n",
    "doAnything()"
   ]
  },
  {
   "cell_type": "code",
   "execution_count": null,
   "metadata": {
    "scrolled": true,
    "tags": []
   },
   "outputs": [],
   "source": [
    "# 附加题1: 给定一个公式 请用Python写出对应的函数\n",
    "# f = x*k + p, 其中x,k,p都是input 即输入的参数"
   ]
  },
  {
   "cell_type": "markdown",
   "metadata": {},
   "source": [
    "请点击[此处](https://ai.baidu.com/docs#/AIStudio_Project_Notebook/a38e5576)查看本环境基本用法.  <br>\n",
    "Please click [here ](https://ai.baidu.com/docs#/AIStudio_Project_Notebook/a38e5576) for more detailed instructions. "
   ]
  }
 ],
 "metadata": {
  "kernelspec": {
   "display_name": "Python 3",
   "language": "python",
   "name": "py35-paddle1.2.0"
  },
  "language_info": {
   "codemirror_mode": {
    "name": "ipython",
    "version": 3
   },
   "file_extension": ".py",
   "mimetype": "text/x-python",
   "name": "python",
   "nbconvert_exporter": "python",
   "pygments_lexer": "ipython3",
   "version": "3.7.4"
  }
 },
 "nbformat": 4,
 "nbformat_minor": 4
}
