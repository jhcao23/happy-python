{
 "cells": [
  {
   "cell_type": "code",
   "execution_count": null,
   "metadata": {
    "collapsed": false,
    "execution": {
     "iopub.execute_input": "2022-08-18T20:35:36.837504Z",
     "iopub.status.busy": "2022-08-18T20:35:36.836234Z",
     "iopub.status.idle": "2022-08-18T20:35:36.843163Z",
     "shell.execute_reply": "2022-08-18T20:35:36.842202Z",
     "shell.execute_reply.started": "2022-08-18T20:35:36.837461Z"
    },
    "jupyter": {
     "outputs_hidden": false
    },
    "scrolled": true,
    "tags": []
   },
   "outputs": [],
   "source": [
    "# Python第2个问题 67*79 = ?\n",
    "a = 67\n",
    "b = 76\n",
    "c = a*b\n",
    "# 展示 - 请将答案展示出来\n",
    "print(c)"
   ]
  },
  {
   "cell_type": "code",
   "execution_count": null,
   "metadata": {
    "execution": {
     "iopub.execute_input": "2022-08-14T19:39:51.241016Z",
     "iopub.status.busy": "2022-08-14T19:39:51.240497Z",
     "iopub.status.idle": "2022-08-14T19:39:51.244692Z",
     "shell.execute_reply": "2022-08-14T19:39:51.243888Z",
     "shell.execute_reply.started": "2022-08-14T19:39:51.240981Z"
    },
    "scrolled": true,
    "tags": []
   },
   "outputs": [],
   "source": [
    "# 附加题: 2*2.51=?\n",
    "# a = 2\n",
    "# b = 2.51"
   ]
  }
 ],
 "metadata": {
  "kernelspec": {
   "display_name": "Python 3.9.13 64-bit",
   "language": "python",
   "name": "python3"
  },
  "language_info": {
   "codemirror_mode": {
    "name": "ipython",
    "version": 3
   },
   "file_extension": ".py",
   "mimetype": "text/x-python",
   "name": "python",
   "nbconvert_exporter": "python",
   "pygments_lexer": "ipython3",
   "version": "3.9.13"
  },
  "vscode": {
   "interpreter": {
    "hash": "340e956ee656efd8fdfb480dc033c937d9b626f8b21073bd1b5aa2a469586ea6"
   }
  }
 },
 "nbformat": 4,
 "nbformat_minor": 4
}
