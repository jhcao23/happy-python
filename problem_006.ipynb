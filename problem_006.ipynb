{
 "cells": [
  {
   "cell_type": "code",
   "execution_count": 2,
   "metadata": {
    "collapsed": false,
    "execution": {
     "iopub.execute_input": "2022-08-18T20:46:50.654442Z",
     "iopub.status.busy": "2022-08-18T20:46:50.653151Z",
     "iopub.status.idle": "2022-08-18T20:46:50.660683Z",
     "shell.execute_reply": "2022-08-18T20:46:50.659655Z",
     "shell.execute_reply.started": "2022-08-18T20:46:50.654399Z"
    },
    "jupyter": {
     "outputs_hidden": false
    },
    "scrolled": true,
    "tags": []
   },
   "outputs": [
    {
     "name": "stdout",
     "output_type": "stream",
     "text": [
      "apple is from apple tree\n"
     ]
    }
   ],
   "source": [
    "# Python第6个问题 之前学的变量类型都是对应单个数字 那么文字怎么办?\n",
    "# 文字 在Python中的数据类型叫做str (表示string的意思 中文常翻译为字符串)\n",
    "# 对于一个具体的str值 可以用带引号的形式表达\n",
    "a = \"apple\"\n",
    "b = \"is\"\n",
    "c = \"from apple tree\"\n",
    "d = a + \" \" + b + \" \" + c\n",
    "# 展示 - 请将答案展示出来\n",
    "print(d)\n"
   ]
  },
  {
   "cell_type": "code",
   "execution_count": 4,
   "metadata": {
    "execution": {
     "iopub.execute_input": "2022-08-18T20:47:13.056040Z",
     "iopub.status.busy": "2022-08-18T20:47:13.055105Z",
     "iopub.status.idle": "2022-08-18T20:47:13.062589Z",
     "shell.execute_reply": "2022-08-18T20:47:13.061416Z",
     "shell.execute_reply.started": "2022-08-18T20:47:13.056000Z"
    },
    "scrolled": true,
    "tags": []
   },
   "outputs": [
    {
     "name": "stdout",
     "output_type": "stream",
     "text": [
      "f\n"
     ]
    }
   ],
   "source": [
    "# 如何选择str中的第n个字母?\n",
    "letter = d[9] # 此处用了index(指针)的概念 后面课节会具体的讲 此时只需记住index的顺序是从0开始的\n",
    "print(letter)"
   ]
  },
  {
   "cell_type": "code",
   "execution_count": 2,
   "metadata": {
    "execution": {
     "iopub.execute_input": "2022-08-17T00:52:45.035637Z",
     "iopub.status.busy": "2022-08-17T00:52:45.034878Z",
     "iopub.status.idle": "2022-08-17T00:52:45.040924Z",
     "shell.execute_reply": "2022-08-17T00:52:45.040188Z",
     "shell.execute_reply.started": "2022-08-17T00:52:45.035598Z"
    },
    "scrolled": true,
    "tags": []
   },
   "outputs": [
    {
     "name": "stdout",
     "output_type": "stream",
     "text": [
      "My name is John, I'm 36\n",
      "My name is John, I'm 37\n",
      "My name is John, I'm 39\n"
     ]
    }
   ],
   "source": [
    "# str的其他常见用法\n",
    "# 诸多用法请参考官网文档 但点到为止 - 基本上到此也够用了\n",
    "txt1 = \"My name is {fname}, I'm {age}\".format(fname = \"John\", age = 36)\n",
    "print(txt1)\n",
    "txt2 = \"My name is {0}, I'm {1}\".format(\"John\",37)\n",
    "print(txt2)\n",
    "txt3 = \"My name is {}, I'm {}\".format(\"John\",39)\n",
    "print(txt3)"
   ]
  },
  {
   "cell_type": "code",
   "execution_count": 13,
   "metadata": {
    "execution": {
     "iopub.execute_input": "2022-08-14T20:02:07.524255Z",
     "iopub.status.busy": "2022-08-14T20:02:07.523585Z",
     "iopub.status.idle": "2022-08-14T20:02:07.528966Z",
     "shell.execute_reply": "2022-08-14T20:02:07.528262Z",
     "shell.execute_reply.started": "2022-08-14T20:02:07.524214Z"
    },
    "scrolled": true,
    "tags": []
   },
   "outputs": [
    {
     "name": "stdout",
     "output_type": "stream",
     "text": [
      "125000.0\n"
     ]
    }
   ],
   "source": [
    "# 附加题1: 请展示一句自我介绍 in English\n",
    "# 附加题2: 请展示一首诗"
   ]
  }
 ],
 "metadata": {
  "kernelspec": {
   "display_name": "Python 3.9.13 64-bit",
   "language": "python",
   "name": "python3"
  },
  "language_info": {
   "codemirror_mode": {
    "name": "ipython",
    "version": 3
   },
   "file_extension": ".py",
   "mimetype": "text/x-python",
   "name": "python",
   "nbconvert_exporter": "python",
   "pygments_lexer": "ipython3",
   "version": "3.9.13"
  },
  "vscode": {
   "interpreter": {
    "hash": "340e956ee656efd8fdfb480dc033c937d9b626f8b21073bd1b5aa2a469586ea6"
   }
  }
 },
 "nbformat": 4,
 "nbformat_minor": 4
}
