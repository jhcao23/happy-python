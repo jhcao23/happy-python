{
 "cells": [
  {
   "cell_type": "code",
   "execution_count": null,
   "metadata": {
    "collapsed": false,
    "execution": {
     "iopub.execute_input": "2022-08-18T20:41:46.926861Z",
     "iopub.status.busy": "2022-08-18T20:41:46.926153Z",
     "iopub.status.idle": "2022-08-18T20:41:46.934869Z",
     "shell.execute_reply": "2022-08-18T20:41:46.933892Z",
     "shell.execute_reply.started": "2022-08-18T20:41:46.926819Z"
    },
    "jupyter": {
     "outputs_hidden": false
    },
    "scrolled": true,
    "tags": []
   },
   "outputs": [],
   "source": [
    "# Python第5个问题 2是不是比1大?\n",
    "a = 2\n",
    "b = 1\n",
    "c = a > b\n",
    "# 展示 - 请将答案展示出来\n",
    "print(\"A. 2是不是比1大?\")\n",
    "print(c)\n",
    "\n",
    "# 反过来说 2是不是比1小?\n",
    "c = a < b\n",
    "print(\"B. 2是不是比1小?\")\n",
    "print(c)\n",
    "\n",
    "# 1 + 1 是不是等于2?\n",
    "x = 1 + 1 \n",
    "y = 2\n",
    "z = x==y\n",
    "print(\"C. 1+1是不是等于2?\")\n",
    "print(z)"
   ]
  },
  {
   "cell_type": "code",
   "execution_count": null,
   "metadata": {
    "execution": {
     "iopub.execute_input": "2022-08-14T20:02:07.524255Z",
     "iopub.status.busy": "2022-08-14T20:02:07.523585Z",
     "iopub.status.idle": "2022-08-14T20:02:07.528966Z",
     "shell.execute_reply": "2022-08-14T20:02:07.528262Z",
     "shell.execute_reply.started": "2022-08-14T20:02:07.524214Z"
    },
    "scrolled": true,
    "tags": []
   },
   "outputs": [],
   "source": [
    "# 附加题: 1+1是不是等于1?\n",
    "# a = 1\n",
    "# b"
   ]
  }
 ],
 "metadata": {
  "kernelspec": {
   "display_name": "Python 3.9.13 64-bit",
   "language": "python",
   "name": "python3"
  },
  "language_info": {
   "codemirror_mode": {
    "name": "ipython",
    "version": 3
   },
   "file_extension": ".py",
   "mimetype": "text/x-python",
   "name": "python",
   "nbconvert_exporter": "python",
   "pygments_lexer": "ipython3",
   "version": "3.9.13"
  },
  "vscode": {
   "interpreter": {
    "hash": "340e956ee656efd8fdfb480dc033c937d9b626f8b21073bd1b5aa2a469586ea6"
   }
  }
 },
 "nbformat": 4,
 "nbformat_minor": 4
}
