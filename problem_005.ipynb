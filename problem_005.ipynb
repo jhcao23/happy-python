{
 "cells": [
  {
   "cell_type": "code",
   "execution_count": 2,
   "metadata": {
    "collapsed": false,
    "execution": {
     "iopub.execute_input": "2022-08-18T20:41:46.926861Z",
     "iopub.status.busy": "2022-08-18T20:41:46.926153Z",
     "iopub.status.idle": "2022-08-18T20:41:46.934869Z",
     "shell.execute_reply": "2022-08-18T20:41:46.933892Z",
     "shell.execute_reply.started": "2022-08-18T20:41:46.926819Z"
    },
    "jupyter": {
     "outputs_hidden": false
    },
    "scrolled": true,
    "tags": []
   },
   "outputs": [
    {
     "name": "stdout",
     "output_type": "stream",
     "text": [
      "A. 2是不是比1大?\n",
      "True\n",
      "B. 2是不是比1小?\n",
      "False\n",
      "C. 1+1是不是等于2?\n",
      "True\n"
     ]
    }
   ],
   "source": [
    "# Python第5个问题 2是不是比1大?\n",
    "a = 2\n",
    "b = 1\n",
    "c = a > b\n",
    "# 展示 - 请将答案展示出来\n",
    "print(\"A. 2是不是比1大?\")\n",
    "print(c)\n",
    "\n",
    "# 反过来说 2是不是比1小?\n",
    "c = a < b\n",
    "print(\"B. 2是不是比1小?\")\n",
    "print(c)\n",
    "\n",
    "# 1 + 1 是不是等于2?\n",
    "x = 1 + 1 \n",
    "y = 2\n",
    "z = x==y\n",
    "print(\"C. 1+1是不是等于2?\")\n",
    "print(z)"
   ]
  },
  {
   "cell_type": "code",
   "execution_count": 13,
   "metadata": {
    "execution": {
     "iopub.execute_input": "2022-08-14T20:02:07.524255Z",
     "iopub.status.busy": "2022-08-14T20:02:07.523585Z",
     "iopub.status.idle": "2022-08-14T20:02:07.528966Z",
     "shell.execute_reply": "2022-08-14T20:02:07.528262Z",
     "shell.execute_reply.started": "2022-08-14T20:02:07.524214Z"
    },
    "scrolled": true,
    "tags": []
   },
   "outputs": [
    {
     "name": "stdout",
     "output_type": "stream",
     "text": [
      "125000.0\n"
     ]
    }
   ],
   "source": [
    "# 附加题: 1+1是不是等于1?\n",
    "# a = 1\n",
    "# b"
   ]
  },
  {
   "cell_type": "markdown",
   "metadata": {},
   "source": [
    "请点击[此处](https://ai.baidu.com/docs#/AIStudio_Project_Notebook/a38e5576)查看本环境基本用法.  <br>\n",
    "Please click [here ](https://ai.baidu.com/docs#/AIStudio_Project_Notebook/a38e5576) for more detailed instructions. "
   ]
  }
 ],
 "metadata": {
  "kernelspec": {
   "display_name": "Python 3",
   "language": "python",
   "name": "py35-paddle1.2.0"
  },
  "language_info": {
   "codemirror_mode": {
    "name": "ipython",
    "version": 3
   },
   "file_extension": ".py",
   "mimetype": "text/x-python",
   "name": "python",
   "nbconvert_exporter": "python",
   "pygments_lexer": "ipython3",
   "version": "3.7.4"
  }
 },
 "nbformat": 4,
 "nbformat_minor": 4
}
