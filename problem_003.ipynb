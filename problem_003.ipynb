{
 "cells": [
  {
   "cell_type": "code",
   "execution_count": 1,
   "metadata": {
    "collapsed": false,
    "execution": {
     "iopub.execute_input": "2022-08-14T19:42:08.607951Z",
     "iopub.status.busy": "2022-08-14T19:42:08.607100Z",
     "iopub.status.idle": "2022-08-14T19:42:08.613133Z",
     "shell.execute_reply": "2022-08-14T19:42:08.612325Z",
     "shell.execute_reply.started": "2022-08-14T19:42:08.607911Z"
    },
    "jupyter": {
     "outputs_hidden": false
    },
    "scrolled": true,
    "tags": []
   },
   "outputs": [
    {
     "name": "stdout",
     "output_type": "stream",
     "text": [
      "1024\n"
     ]
    }
   ],
   "source": [
    "# Python第3个问题 2的10次方 = ?\n",
    "a = 2\n",
    "b = 10\n",
    "c = a ** b\n",
    "# 展示 - 请将答案展示出来\n",
    "print(c)"
   ]
  },
  {
   "cell_type": "code",
   "execution_count": 9,
   "metadata": {
    "execution": {
     "iopub.execute_input": "2022-08-14T19:43:44.813350Z",
     "iopub.status.busy": "2022-08-14T19:43:44.812192Z",
     "iopub.status.idle": "2022-08-14T19:43:44.818601Z",
     "shell.execute_reply": "2022-08-14T19:43:44.817372Z",
     "shell.execute_reply.started": "2022-08-14T19:43:44.813312Z"
    },
    "scrolled": true,
    "tags": []
   },
   "outputs": [
    {
     "name": "stdout",
     "output_type": "stream",
     "text": [
      "1606938044258990275541962092341162602522202993782792835301376\n"
     ]
    }
   ],
   "source": [
    "# 附加题: 2的200次方=?\n",
    "# a = 2\n",
    "# b = "
   ]
  },
  {
   "cell_type": "markdown",
   "metadata": {},
   "source": [
    "请点击[此处](https://ai.baidu.com/docs#/AIStudio_Project_Notebook/a38e5576)查看本环境基本用法.  <br>\n",
    "Please click [here ](https://ai.baidu.com/docs#/AIStudio_Project_Notebook/a38e5576) for more detailed instructions. "
   ]
  }
 ],
 "metadata": {
  "kernelspec": {
   "display_name": "Python 3",
   "language": "python",
   "name": "py35-paddle1.2.0"
  },
  "language_info": {
   "codemirror_mode": {
    "name": "ipython",
    "version": 3
   },
   "file_extension": ".py",
   "mimetype": "text/x-python",
   "name": "python",
   "nbconvert_exporter": "python",
   "pygments_lexer": "ipython3",
   "version": "3.7.4"
  }
 },
 "nbformat": 4,
 "nbformat_minor": 4
}
