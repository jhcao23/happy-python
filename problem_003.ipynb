{
 "cells": [
  {
   "cell_type": "code",
   "execution_count": null,
   "metadata": {
    "collapsed": false,
    "execution": {
     "iopub.execute_input": "2022-08-14T19:42:08.607951Z",
     "iopub.status.busy": "2022-08-14T19:42:08.607100Z",
     "iopub.status.idle": "2022-08-14T19:42:08.613133Z",
     "shell.execute_reply": "2022-08-14T19:42:08.612325Z",
     "shell.execute_reply.started": "2022-08-14T19:42:08.607911Z"
    },
    "jupyter": {
     "outputs_hidden": false
    },
    "scrolled": true,
    "tags": []
   },
   "outputs": [],
   "source": [
    "# Python第3个问题 2的10次方 = ?\n",
    "a = 2\n",
    "b = 10\n",
    "c = a ** b\n",
    "# 展示 - 请将答案展示出来\n",
    "print(c)"
   ]
  },
  {
   "cell_type": "code",
   "execution_count": null,
   "metadata": {
    "execution": {
     "iopub.execute_input": "2022-08-14T19:43:44.813350Z",
     "iopub.status.busy": "2022-08-14T19:43:44.812192Z",
     "iopub.status.idle": "2022-08-14T19:43:44.818601Z",
     "shell.execute_reply": "2022-08-14T19:43:44.817372Z",
     "shell.execute_reply.started": "2022-08-14T19:43:44.813312Z"
    },
    "scrolled": true,
    "tags": []
   },
   "outputs": [],
   "source": [
    "# 附加题: 2的200次方=?\n",
    "# a = 2\n",
    "# b = "
   ]
  }
 ],
 "metadata": {
  "kernelspec": {
   "display_name": "Python 3.9.13 64-bit",
   "language": "python",
   "name": "python3"
  },
  "language_info": {
   "codemirror_mode": {
    "name": "ipython",
    "version": 3
   },
   "file_extension": ".py",
   "mimetype": "text/x-python",
   "name": "python",
   "nbconvert_exporter": "python",
   "pygments_lexer": "ipython3",
   "version": "3.9.13"
  },
  "vscode": {
   "interpreter": {
    "hash": "340e956ee656efd8fdfb480dc033c937d9b626f8b21073bd1b5aa2a469586ea6"
   }
  }
 },
 "nbformat": 4,
 "nbformat_minor": 4
}
