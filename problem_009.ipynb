{
 "cells": [
  {
   "cell_type": "code",
   "execution_count": null,
   "metadata": {
    "scrolled": true,
    "tags": []
   },
   "outputs": [],
   "source": [
    "# 前方高能 请注意\n",
    "# 高难度动作 请看清\n",
    "# input是List的时候\n",
    "\n",
    "# 取偶数的加和\n",
    "# 偶数 偶数 偶数 重要的事说3遍啊啊啊\n",
    "def sum_even(numbers):\n",
    "    total = 0\n",
    "    for n in numbers:\n",
    "        if n % 2 == 0:\n",
    "            total = total + n\n",
    "        elif n % 2 == 1:\n",
    "            print(\"{} is odd\".format(n))\n",
    "        else:\n",
    "            print(\"this should never happen\")\n",
    "    return total\n",
    "\n",
    "# 现在我们来调用这个函数\n",
    "dadada = [1,2,3,4,5]\n",
    "sum_value = sum_even(dadada)\n",
    "print( \"sum of the even is {}\".format(sum_value) )"
   ]
  },
  {
   "cell_type": "code",
   "execution_count": null,
   "metadata": {
    "scrolled": true
   },
   "outputs": [],
   "source": [
    "# Method 2: 其实可以只用 if... else\n",
    "def sum_even_method2(numbers):\n",
    "    total = 0\n",
    "    for n in numbers:\n",
    "        if n % 2 == 0:\n",
    "            total = total + n\n",
    "        else:\n",
    "            print(\"{} is odd\".format(n))\n",
    "    return total\n",
    "\n",
    "# 现在我们来调用这个函数\n",
    "dadada = [1,2,3,4,5]\n",
    "sum_value = sum_even_method2(dadada)\n",
    "print( \"sum of the even is {}\".format(sum_value) )\n"
   ]
  },
  {
   "cell_type": "code",
   "execution_count": null,
   "metadata": {
    "scrolled": true
   },
   "outputs": [],
   "source": [
    "# 附加题1: 给定list (都是数字) 请算出所有3的倍数的和 (也非常高能!!!)"
   ]
  }
 ],
 "metadata": {
  "kernelspec": {
   "display_name": "Python 3.9.13 64-bit",
   "language": "python",
   "name": "python3"
  },
  "language_info": {
   "codemirror_mode": {
    "name": "ipython",
    "version": 3
   },
   "file_extension": ".py",
   "mimetype": "text/x-python",
   "name": "python",
   "nbconvert_exporter": "python",
   "pygments_lexer": "ipython3",
   "version": "3.9.13"
  },
  "vscode": {
   "interpreter": {
    "hash": "340e956ee656efd8fdfb480dc033c937d9b626f8b21073bd1b5aa2a469586ea6"
   }
  }
 },
 "nbformat": 4,
 "nbformat_minor": 4
}
