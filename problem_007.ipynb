{
 "cells": [
  {
   "cell_type": "code",
   "execution_count": 1,
   "metadata": {
    "collapsed": false,
    "execution": {
     "iopub.execute_input": "2022-08-18T20:51:50.692655Z",
     "iopub.status.busy": "2022-08-18T20:51:50.691926Z",
     "iopub.status.idle": "2022-08-18T20:51:50.698688Z",
     "shell.execute_reply": "2022-08-18T20:51:50.697836Z",
     "shell.execute_reply.started": "2022-08-18T20:51:50.692614Z"
    },
    "jupyter": {
     "outputs_hidden": false
    },
    "scrolled": true,
    "tags": []
   },
   "outputs": [
    {
     "name": "stdout",
     "output_type": "stream",
     "text": [
      "[1, 2, 3, 4]\n"
     ]
    }
   ],
   "source": [
    "# Python第7个问题 之前学的变量类型都是对应单一的数据 那么一堆数据怎么办?\n",
    "# 在Python中有一个数据类型叫做list\n",
    "numbers: list = [1, 2, 3, 4]\n",
    "# 展示 - 请将答案展示出来\n",
    "print(numbers)\n"
   ]
  },
  {
   "cell_type": "code",
   "execution_count": 2,
   "metadata": {
    "execution": {
     "iopub.execute_input": "2022-08-18T20:55:04.059267Z",
     "iopub.status.busy": "2022-08-18T20:55:04.058383Z",
     "iopub.status.idle": "2022-08-18T20:55:04.064891Z",
     "shell.execute_reply": "2022-08-18T20:55:04.063917Z",
     "shell.execute_reply.started": "2022-08-18T20:55:04.059226Z"
    },
    "scrolled": true,
    "tags": []
   },
   "outputs": [
    {
     "name": "stdout",
     "output_type": "stream",
     "text": [
      "3\n"
     ]
    }
   ],
   "source": [
    "# 如何读取List中的第n个?\n",
    "# 比如提取3 -> 3的index是2\n",
    "x = numbers[2] # 此处用了index(指针)的概念\n",
    "print(x)"
   ]
  },
  {
   "cell_type": "code",
   "execution_count": 9,
   "metadata": {
    "execution": {
     "iopub.execute_input": "2022-08-15T04:48:24.153113Z",
     "iopub.status.busy": "2022-08-15T04:48:24.152433Z",
     "iopub.status.idle": "2022-08-15T04:48:24.157835Z",
     "shell.execute_reply": "2022-08-15T04:48:24.157105Z",
     "shell.execute_reply.started": "2022-08-15T04:48:24.153076Z"
    },
    "scrolled": true,
    "tags": []
   },
   "outputs": [
    {
     "name": "stdout",
     "output_type": "stream",
     "text": [
      "10\n"
     ]
    }
   ],
   "source": [
    "# 在List里面走一圈 \n",
    "# 比如 在numbers里走一圈 去sum(加和)的数值\n",
    "\n",
    "sum = 0\n",
    "for y in numbers:\n",
    "    sum = sum + y\n",
    "\n",
    "# 展示\n",
    "print(sum)"
   ]
  },
  {
   "cell_type": "code",
   "execution_count": 8,
   "metadata": {
    "execution": {
     "iopub.execute_input": "2022-08-15T04:48:19.409222Z",
     "iopub.status.busy": "2022-08-15T04:48:19.407990Z",
     "iopub.status.idle": "2022-08-15T04:48:19.412484Z",
     "shell.execute_reply": "2022-08-15T04:48:19.411690Z",
     "shell.execute_reply.started": "2022-08-15T04:48:19.409183Z"
    },
    "scrolled": true,
    "tags": []
   },
   "outputs": [],
   "source": [
    "# 附加题1: 自己写一组数 请计算 (前面的数的加和 - 最后一个数)"
   ]
  },
  {
   "cell_type": "markdown",
   "metadata": {},
   "source": [
    "请点击[此处](https://ai.baidu.com/docs#/AIStudio_Project_Notebook/a38e5576)查看本环境基本用法.  <br>\n",
    "Please click [here ](https://ai.baidu.com/docs#/AIStudio_Project_Notebook/a38e5576) for more detailed instructions. "
   ]
  }
 ],
 "metadata": {
  "kernelspec": {
   "display_name": "Python 3",
   "language": "python",
   "name": "py35-paddle1.2.0"
  },
  "language_info": {
   "codemirror_mode": {
    "name": "ipython",
    "version": 3
   },
   "file_extension": ".py",
   "mimetype": "text/x-python",
   "name": "python",
   "nbconvert_exporter": "python",
   "pygments_lexer": "ipython3",
   "version": "3.7.4"
  }
 },
 "nbformat": 4,
 "nbformat_minor": 4
}
