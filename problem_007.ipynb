{
 "cells": [
  {
   "cell_type": "code",
   "execution_count": null,
   "metadata": {
    "collapsed": false,
    "execution": {
     "iopub.execute_input": "2022-08-18T20:51:50.692655Z",
     "iopub.status.busy": "2022-08-18T20:51:50.691926Z",
     "iopub.status.idle": "2022-08-18T20:51:50.698688Z",
     "shell.execute_reply": "2022-08-18T20:51:50.697836Z",
     "shell.execute_reply.started": "2022-08-18T20:51:50.692614Z"
    },
    "jupyter": {
     "outputs_hidden": false
    },
    "scrolled": true,
    "tags": []
   },
   "outputs": [],
   "source": [
    "# Python第7个问题 之前学的变量类型都是对应单一的数据 那么一堆数据怎么办?\n",
    "# 在Python中有一个数据类型叫做list\n",
    "numbers: list = [1, 2, 3, 4]\n",
    "# 展示 - 请将答案展示出来\n",
    "print(numbers)\n"
   ]
  },
  {
   "cell_type": "code",
   "execution_count": null,
   "metadata": {
    "execution": {
     "iopub.execute_input": "2022-08-18T20:55:04.059267Z",
     "iopub.status.busy": "2022-08-18T20:55:04.058383Z",
     "iopub.status.idle": "2022-08-18T20:55:04.064891Z",
     "shell.execute_reply": "2022-08-18T20:55:04.063917Z",
     "shell.execute_reply.started": "2022-08-18T20:55:04.059226Z"
    },
    "scrolled": true,
    "tags": []
   },
   "outputs": [],
   "source": [
    "# 如何读取List中的第n个?\n",
    "# 比如提取3 -> 3的index是2\n",
    "x = numbers[2] # 此处用了index(指针)的概念\n",
    "print(x)"
   ]
  },
  {
   "cell_type": "code",
   "execution_count": null,
   "metadata": {
    "execution": {
     "iopub.execute_input": "2022-08-15T04:48:24.153113Z",
     "iopub.status.busy": "2022-08-15T04:48:24.152433Z",
     "iopub.status.idle": "2022-08-15T04:48:24.157835Z",
     "shell.execute_reply": "2022-08-15T04:48:24.157105Z",
     "shell.execute_reply.started": "2022-08-15T04:48:24.153076Z"
    },
    "scrolled": true,
    "tags": []
   },
   "outputs": [],
   "source": [
    "# 在List里面走一圈 \n",
    "# 比如 在numbers里走一圈 去sum(加和)的数值\n",
    "\n",
    "sum = 0\n",
    "for y in numbers:\n",
    "    sum = sum + y\n",
    "\n",
    "# 展示\n",
    "print(sum)"
   ]
  },
  {
   "cell_type": "code",
   "execution_count": null,
   "metadata": {
    "execution": {
     "iopub.execute_input": "2022-08-15T04:48:19.409222Z",
     "iopub.status.busy": "2022-08-15T04:48:19.407990Z",
     "iopub.status.idle": "2022-08-15T04:48:19.412484Z",
     "shell.execute_reply": "2022-08-15T04:48:19.411690Z",
     "shell.execute_reply.started": "2022-08-15T04:48:19.409183Z"
    },
    "scrolled": true,
    "tags": []
   },
   "outputs": [],
   "source": [
    "# 附加题1: 自己写一组数 请计算 (前面的数的加和 - 最后一个数)"
   ]
  }
 ],
 "metadata": {
  "kernelspec": {
   "display_name": "Python 3.9.13 64-bit",
   "language": "python",
   "name": "python3"
  },
  "language_info": {
   "codemirror_mode": {
    "name": "ipython",
    "version": 3
   },
   "file_extension": ".py",
   "mimetype": "text/x-python",
   "name": "python",
   "nbconvert_exporter": "python",
   "pygments_lexer": "ipython3",
   "version": "3.9.13"
  },
  "vscode": {
   "interpreter": {
    "hash": "340e956ee656efd8fdfb480dc033c937d9b626f8b21073bd1b5aa2a469586ea6"
   }
  }
 },
 "nbformat": 4,
 "nbformat_minor": 4
}
