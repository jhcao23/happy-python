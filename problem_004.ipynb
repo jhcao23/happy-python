{
 "cells": [
  {
   "cell_type": "code",
   "execution_count": null,
   "metadata": {
    "collapsed": false,
    "execution": {
     "iopub.execute_input": "2022-08-18T20:38:53.487293Z",
     "iopub.status.busy": "2022-08-18T20:38:53.486596Z",
     "iopub.status.idle": "2022-08-18T20:38:53.492826Z",
     "shell.execute_reply": "2022-08-18T20:38:53.491844Z",
     "shell.execute_reply.started": "2022-08-18T20:38:53.487254Z"
    },
    "jupyter": {
     "outputs_hidden": false
    },
    "scrolled": true,
    "tags": []
   },
   "outputs": [],
   "source": [
    "# Python第4个问题 200除以5 = ?\n",
    "a = 100\n",
    "b = 3\n",
    "c = a / b\n",
    "# 展示 - 请将答案展示出来\n",
    "print(c)"
   ]
  },
  {
   "cell_type": "code",
   "execution_count": null,
   "metadata": {
    "execution": {
     "iopub.execute_input": "2022-08-18T20:39:21.388435Z",
     "iopub.status.busy": "2022-08-18T20:39:21.387284Z",
     "iopub.status.idle": "2022-08-18T20:39:21.394170Z",
     "shell.execute_reply": "2022-08-18T20:39:21.393258Z",
     "shell.execute_reply.started": "2022-08-18T20:39:21.388384Z"
    },
    "scrolled": true,
    "tags": []
   },
   "outputs": [],
   "source": [
    "# 整数计算的余数怎么算?\n",
    "m = a % b # should be 0\n",
    "print(m)\n",
    "\n",
    "# 再算109/8的余数 \n",
    "x = 109\n",
    "y = 8\n",
    "z = x % y # should be 5\n",
    "# 展示\n",
    "print(z)"
   ]
  },
  {
   "cell_type": "code",
   "execution_count": null,
   "metadata": {
    "execution": {
     "iopub.execute_input": "2022-08-14T20:02:07.524255Z",
     "iopub.status.busy": "2022-08-14T20:02:07.523585Z",
     "iopub.status.idle": "2022-08-14T20:02:07.528966Z",
     "shell.execute_reply": "2022-08-14T20:02:07.528262Z",
     "shell.execute_reply.started": "2022-08-14T20:02:07.524214Z"
    },
    "scrolled": true,
    "tags": []
   },
   "outputs": [],
   "source": [
    "# 附加题: 1百万除以8=?\n",
    "# a = 1000000\n",
    "# b = 8"
   ]
  }
 ],
 "metadata": {
  "kernelspec": {
   "display_name": "Python 3.9.13 64-bit",
   "language": "python",
   "name": "python3"
  },
  "language_info": {
   "codemirror_mode": {
    "name": "ipython",
    "version": 3
   },
   "file_extension": ".py",
   "mimetype": "text/x-python",
   "name": "python",
   "nbconvert_exporter": "python",
   "pygments_lexer": "ipython3",
   "version": "3.9.13"
  },
  "vscode": {
   "interpreter": {
    "hash": "340e956ee656efd8fdfb480dc033c937d9b626f8b21073bd1b5aa2a469586ea6"
   }
  }
 },
 "nbformat": 4,
 "nbformat_minor": 4
}
