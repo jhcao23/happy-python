{
 "cells": [
  {
   "cell_type": "code",
   "execution_count": 3,
   "metadata": {
    "collapsed": false,
    "execution": {
     "iopub.execute_input": "2022-08-18T20:38:53.487293Z",
     "iopub.status.busy": "2022-08-18T20:38:53.486596Z",
     "iopub.status.idle": "2022-08-18T20:38:53.492826Z",
     "shell.execute_reply": "2022-08-18T20:38:53.491844Z",
     "shell.execute_reply.started": "2022-08-18T20:38:53.487254Z"
    },
    "jupyter": {
     "outputs_hidden": false
    },
    "scrolled": true,
    "tags": []
   },
   "outputs": [
    {
     "name": "stdout",
     "output_type": "stream",
     "text": [
      "33.333333333333336\n"
     ]
    }
   ],
   "source": [
    "# Python第4个问题 200除以5 = ?\n",
    "a = 100\n",
    "b = 3\n",
    "c = a / b\n",
    "# 展示 - 请将答案展示出来\n",
    "print(c)"
   ]
  },
  {
   "cell_type": "code",
   "execution_count": 4,
   "metadata": {
    "execution": {
     "iopub.execute_input": "2022-08-18T20:39:21.388435Z",
     "iopub.status.busy": "2022-08-18T20:39:21.387284Z",
     "iopub.status.idle": "2022-08-18T20:39:21.394170Z",
     "shell.execute_reply": "2022-08-18T20:39:21.393258Z",
     "shell.execute_reply.started": "2022-08-18T20:39:21.388384Z"
    },
    "scrolled": true,
    "tags": []
   },
   "outputs": [
    {
     "name": "stdout",
     "output_type": "stream",
     "text": [
      "1\n",
      "5\n"
     ]
    }
   ],
   "source": [
    "# 整数计算的余数怎么算?\n",
    "m = a % b # should be 0\n",
    "print(m)\n",
    "\n",
    "# 再算109/8的余数 \n",
    "x = 109\n",
    "y = 8\n",
    "z = x % y # should be 5\n",
    "# 展示\n",
    "print(z)"
   ]
  },
  {
   "cell_type": "code",
   "execution_count": 13,
   "metadata": {
    "execution": {
     "iopub.execute_input": "2022-08-14T20:02:07.524255Z",
     "iopub.status.busy": "2022-08-14T20:02:07.523585Z",
     "iopub.status.idle": "2022-08-14T20:02:07.528966Z",
     "shell.execute_reply": "2022-08-14T20:02:07.528262Z",
     "shell.execute_reply.started": "2022-08-14T20:02:07.524214Z"
    },
    "scrolled": true,
    "tags": []
   },
   "outputs": [
    {
     "name": "stdout",
     "output_type": "stream",
     "text": [
      "125000.0\n"
     ]
    }
   ],
   "source": [
    "# 附加题: 1百万除以8=?\n",
    "# a = 1000000\n",
    "# b = 8"
   ]
  },
  {
   "cell_type": "markdown",
   "metadata": {},
   "source": [
    "请点击[此处](https://ai.baidu.com/docs#/AIStudio_Project_Notebook/a38e5576)查看本环境基本用法.  <br>\n",
    "Please click [here ](https://ai.baidu.com/docs#/AIStudio_Project_Notebook/a38e5576) for more detailed instructions. "
   ]
  }
 ],
 "metadata": {
  "kernelspec": {
   "display_name": "Python 3",
   "language": "python",
   "name": "py35-paddle1.2.0"
  },
  "language_info": {
   "codemirror_mode": {
    "name": "ipython",
    "version": 3
   },
   "file_extension": ".py",
   "mimetype": "text/x-python",
   "name": "python",
   "nbconvert_exporter": "python",
   "pygments_lexer": "ipython3",
   "version": "3.7.4"
  }
 },
 "nbformat": 4,
 "nbformat_minor": 4
}
