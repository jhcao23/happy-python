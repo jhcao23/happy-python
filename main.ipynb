{
 "cells": [
  {
   "cell_type": "markdown",
   "metadata": {},
   "source": [
    "\n",
    "## 请不要直接点链接 先按\"启动环境\"\n",
    "\n",
    "## 第1阶段: 1小时学会Python\n",
    "\n",
    "### - 目标: 能表达自己的思路 解决问题\n",
    "\n",
    "### 四则运算\n",
    "1. [第1个问题 1+2等于几?](problem_001.ipynb)\n",
    "2. [第2个问题 67乘以102等于几?](problem_002.ipynb)\n",
    "3. [第3个问题 2的10次方等于几?](problem_003.ipynb)\n",
    "4. [第4个问题 200除以5等于多少?](problem_004.ipynb)\n",
    "5. [第5个问题 是真?是假?](problem_005.ipynb)\n",
    "6. [第6个问题 如何表达文字?](problem_006.ipynb)\n",
    "7. [第7个问题 如何表达一堆数据?](problem_007.ipynb)\n",
    "\n",
    "### 公式即函数\n",
    "8. [第8个问题 如何算函数 y=f(x)](problem_008.ipynb)\n",
    "9. [第9个问题 如果说如果](problem_009.ipynb)\n",
    "\n",
    "### 谈个对象怎么样\n",
    "10. [第10个问题 把functions打包](problem_010.ipynb)\n",
    "\n",
    "## 第2阶段: 知识点的查缺补漏\n",
    "\n",
    "- 目标: 有所耳闻即可 \n",
    "\n",
    "## 第3阶段: 解决问题实战\n",
    "\n",
    "- 目标: 通过实战看清自己的思路\n"
   ]
  }
 ],
 "metadata": {
  "kernelspec": {
   "display_name": "Python 3.9.13 64-bit",
   "language": "python",
   "name": "python3"
  },
  "language_info": {
   "codemirror_mode": {
    "name": "ipython",
    "version": 3
   },
   "file_extension": ".py",
   "mimetype": "text/x-python",
   "name": "python",
   "nbconvert_exporter": "python",
   "pygments_lexer": "ipython3",
   "version": "3.9.13"
  },
  "vscode": {
   "interpreter": {
    "hash": "340e956ee656efd8fdfb480dc033c937d9b626f8b21073bd1b5aa2a469586ea6"
   }
  }
 },
 "nbformat": 4,
 "nbformat_minor": 4
}
