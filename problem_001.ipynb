{
 "cells": [
  {
   "cell_type": "code",
   "execution_count": 5,
   "metadata": {
    "collapsed": false,
    "execution": {
     "iopub.execute_input": "2022-08-18T20:28:33.286802Z",
     "iopub.status.busy": "2022-08-18T20:28:33.285857Z",
     "iopub.status.idle": "2022-08-18T20:28:33.292509Z",
     "shell.execute_reply": "2022-08-18T20:28:33.291574Z",
     "shell.execute_reply.started": "2022-08-18T20:28:33.286745Z"
    },
    "jupyter": {
     "outputs_hidden": false
    },
    "scrolled": true,
    "tags": []
   },
   "outputs": [
    {
     "name": "stdout",
     "output_type": "stream",
     "text": [
      "3\n"
     ]
    }
   ],
   "source": [
    "# Python第1个问题 1 + 2 = ?\n",
    "result = 1 + 2\n",
    "# 展示 - 请将答案展示出来\n",
    "print(result)"
   ]
  },
  {
   "cell_type": "code",
   "execution_count": 2,
   "metadata": {
    "scrolled": true
   },
   "outputs": [],
   "source": [
    "# '#' 开头的行 是comment 表示的是注释/注解/旁白 \n",
    "# 也可以理解为作者给自己写的弹幕 对 就是自己先预留的弹幕!"
   ]
  },
  {
   "cell_type": "code",
   "execution_count": 3,
   "metadata": {
    "execution": {
     "iopub.execute_input": "2022-08-18T20:31:30.185072Z",
     "iopub.status.busy": "2022-08-18T20:31:30.184325Z",
     "iopub.status.idle": "2022-08-18T20:31:30.190677Z",
     "shell.execute_reply": "2022-08-18T20:31:30.189693Z",
     "shell.execute_reply.started": "2022-08-18T20:31:30.185032Z"
    },
    "scrolled": true,
    "tags": []
   },
   "outputs": [
    {
     "name": "stdout",
     "output_type": "stream",
     "text": [
      "3\n"
     ]
    }
   ],
   "source": [
    "# 同一个问题 1 + 2 = ? 但是 请使用变量\n",
    "a = 1\n",
    "b = 2\n",
    "c = a + b # 答案在此\n",
    "# 展示 - 将答案展示出来\n",
    "print(c)"
   ]
  },
  {
   "cell_type": "code",
   "execution_count": 4,
   "metadata": {
    "scrolled": true
   },
   "outputs": [],
   "source": [
    "# 附加题: 99+1=?\n",
    "# 切记: Python的code敲回车换行之后 👈🏻不要加空格 包括第1行"
   ]
  }
 ],
 "metadata": {
  "kernelspec": {
   "display_name": "Python 3.9.13 64-bit",
   "language": "python",
   "name": "python3"
  },
  "language_info": {
   "codemirror_mode": {
    "name": "ipython",
    "version": 3
   },
   "file_extension": ".py",
   "mimetype": "text/x-python",
   "name": "python",
   "nbconvert_exporter": "python",
   "pygments_lexer": "ipython3",
   "version": "3.9.13"
  },
  "vscode": {
   "interpreter": {
    "hash": "340e956ee656efd8fdfb480dc033c937d9b626f8b21073bd1b5aa2a469586ea6"
   }
  }
 },
 "nbformat": 4,
 "nbformat_minor": 4
}
